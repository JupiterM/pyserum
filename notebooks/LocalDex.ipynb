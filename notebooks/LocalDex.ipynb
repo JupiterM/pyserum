{
 "cells": [
  {
   "cell_type": "code",
   "execution_count": null,
   "metadata": {},
   "outputs": [],
   "source": [
    "from solana.rpc.api import Client\n",
    "from solana.publickey import PublicKey\n",
    "\n",
    "local_client = Client()\n",
    "local_dex = PublicKey(\"HrH1LR2ba4GrGi6LRRdUUAHThcv9hMh3vsYfMSrvQGfA\")\n",
    "local_client.get_account_info(local_dex)"
   ]
  },
  {
   "cell_type": "code",
   "execution_count": null,
   "metadata": {},
   "outputs": [],
   "source": []
  }
 ],
 "metadata": {
  "kernelspec": {
   "display_name": "Python 3",
   "language": "python",
   "name": "python3"
  },
  "language_info": {
   "codemirror_mode": {
    "name": "ipython",
    "version": 3
   },
   "file_extension": ".py",
   "mimetype": "text/x-python",
   "name": "python",
   "nbconvert_exporter": "python",
   "pygments_lexer": "ipython3",
   "version": "3.7.3"
  }
 },
 "nbformat": 4,
 "nbformat_minor": 4
}
